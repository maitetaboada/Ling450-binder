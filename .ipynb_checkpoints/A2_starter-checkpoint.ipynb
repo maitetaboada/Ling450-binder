{
 "cells": [
  {
   "cell_type": "markdown",
   "metadata": {},
   "source": [
    "# Assignment 2 starter code\n",
    "This notebook contains code to run [coreferee](https://github.com/explosion/coreferee), a coreference system running under spaCy to extract coreference chains (or clusters) from text.\n",
    "To run the notebook, you first have to intall coreferee. See instructions here: https://spacy.io/universe/project/coreferee, but mostly what you need to do is, from a command prompt:\n",
    "\n",
    "    $ python -m pip install coreferee\n",
    "$ python -m coreferee install en\n",
    "    \n",
    "You'll also need to download the spaCy transformer model for English, which needs the large model as well. \n",
    "It turns out, spacy has just released new versions and coreferee is not yet compatible with them, so you need to download specific versions of each model:\n",
    "\n",
    "    $ python -m pip install https://github.com/explosion/spacy-models/releases/download/en_core_web_lg-3.4.0/en_core_web_lg-3.4.0.tar.gz \n",
    "$ python -m pip install https://github.com/explosion/spacy-models/releases/download/en_core_web_trf-3.4.0/en_core_web_trf-3.4.0.tar.gz\n",
    "\n",
    "If you are running this on binder, then do these things in the next two cells instead"
   ]
  },
  {
   "cell_type": "markdown",
   "metadata": {},
   "source": [
    "## Part 1: Run coreferee"
   ]
  },
  {
   "cell_type": "markdown",
   "metadata": {},
   "source": [
    "### Binder only"
   ]
  },
  {
   "cell_type": "code",
   "execution_count": null,
   "metadata": {},
   "outputs": [],
   "source": [
    "# run this cell only if you are on Binder\n",
    "\n",
    "!python3 -m pip install coreferee\n",
    "!python3 -m coreferee install en"
   ]
  },
  {
   "cell_type": "code",
   "execution_count": null,
   "metadata": {},
   "outputs": [],
   "source": [
    "# run this cell only if you are on Binder\n",
    "\n",
    "!python -m pip install https://github.com/explosion/spacy-models/releases/download/en_core_web_lg-3.4.0/en_core_web_lg-3.4.0.tar.gz\n",
    "!python -m pip install https://github.com/explosion/spacy-models/releases/download/en_core_web_trf-3.4.0/en_core_web_trf-3.4.0.tar.gz"
   ]
  },
  {
   "cell_type": "markdown",
   "metadata": {},
   "source": [
    "### End of Binder only"
   ]
  },
  {
   "cell_type": "code",
   "execution_count": 7,
   "metadata": {},
   "outputs": [
    {
     "data": {
      "text/plain": [
       "<coreferee.manager.CorefereeBroker at 0x20c4a4d2908>"
      ]
     },
     "execution_count": 7,
     "metadata": {},
     "output_type": "execute_result"
    }
   ],
   "source": [
    "# import what we need, load the transformer model, \n",
    "# add coreferee to the spacy nlp pipeline\n",
    "\n",
    "import coreferee, spacy\n",
    "nlp = spacy.load('en_core_web_trf')\n",
    "nlp.add_pipe('coreferee')"
   ]
  },
  {
   "cell_type": "code",
   "execution_count": 8,
   "metadata": {},
   "outputs": [],
   "source": [
    "# this is just a test, so that you can see what the coreference chains look like\n",
    "# you may get a CUDA warning here. As long as it's only a warning, things should run just fine\n",
    "\n",
    "doc = nlp('Although he was very busy with his work, Peter had had enough of it. He and his wife decided they needed a holiday. They travelled to Spain because they loved the country very much.')"
   ]
  },
  {
   "cell_type": "code",
   "execution_count": 9,
   "metadata": {},
   "outputs": [
    {
     "name": "stdout",
     "output_type": "stream",
     "text": [
      "0: he(1), his(6), Peter(9), He(16), his(18)\r\n",
      "1: work(7), it(14)\r\n",
      "2: [He(16); wife(19)], they(21), They(26), they(31)\r\n",
      "3: Spain(29), country(34)\n"
     ]
    }
   ],
   "source": [
    "# now we print the coreference chains found\n",
    "\n",
    "doc._.coref_chains.print()"
   ]
  },
  {
   "cell_type": "markdown",
   "metadata": {},
   "source": [
    "A few things to note about the output:\n",
    "\n",
    "* We have 4 coreference chains, relating to: *Peter, work, wife(+Peter), Spain*\n",
    "* Coreferee is able to deal with cataphora, where the pronoun (*he*) appears before the referent (*Peter*)\n",
    "* Coreferee can deal with groups: *\\[he+wife\\], they*\n",
    "* The wife does not appear as an entity with a chain, because there is no referring expression to that entity. It only appears as part of *he and his wife*"
   ]
  },
  {
   "cell_type": "code",
   "execution_count": 10,
   "metadata": {},
   "outputs": [
    {
     "name": "stdout",
     "output_type": "stream",
     "text": [
      "[Peter, wife]\n"
     ]
    }
   ],
   "source": [
    "# once we have an index for a particular referring expression, \n",
    "# we can ask coreferee to resolve it. For instance, printing\n",
    "# the following expression gives us the referent for \n",
    "# the referring expression 31 (they)\n",
    "\n",
    "print(doc._.coref_chains.resolve(doc[31]))"
   ]
  },
  {
   "cell_type": "markdown",
   "metadata": {},
   "source": [
    "### Run coreferee on local files"
   ]
  },
  {
   "cell_type": "code",
   "execution_count": 11,
   "metadata": {},
   "outputs": [],
   "source": [
    "# do coreference chains for 5 documents in the data/ directory\n",
    "# below is a sample for the first text\n",
    "\n",
    "with open (\"data/5c1dbe1d1e67d78e2797d611.txt\", \"r\", encoding='utf-8') as f:\n",
    "    text1 = f.read()"
   ]
  },
  {
   "cell_type": "code",
   "execution_count": 12,
   "metadata": {},
   "outputs": [],
   "source": [
    "doc1 = nlp(text1)"
   ]
  },
  {
   "cell_type": "code",
   "execution_count": 13,
   "metadata": {},
   "outputs": [
    {
     "name": "stdout",
     "output_type": "stream",
     "text": [
      "0: couple(9), couple(76)\r\n",
      "1: years(16), their(19)\r\n",
      "2: letter(48), them(59), they(78)\r\n",
      "3: Ayo(72), Ayo(150)\r\n",
      "4: custody(87), it(96)\r\n",
      "5: News(112), News(136)\r\n",
      "6: fact(117), It(165)\r\n",
      "7: orphanage(161), orphanage(206)\r\n",
      "8: letter(171), letter(219)\r\n",
      "9: Kim(174), Kim(211)\r\n",
      "10: children(254), their(266)\r\n",
      "11: adoption(300), adoption(333)\r\n",
      "12: headlines(317), they(325)\r\n",
      "13: Kim(338), Kim(401), Kim(425), her(437), she(452)\r\n",
      "14: Nigeria(345), country(359)\r\n",
      "15: papers(372), them(376)\r\n",
      "16: Clark(395), Clark(432), He(444), him(478), him(486), him(496), he(501)\r\n",
      "17: [Kim(401); son(404)], their(403)\r\n",
      "18: Canada(474), They(484)\r\n",
      "19: Nigeria(489), They(494)\r\n",
      "20: Morans(561), Morans(602)\r\n",
      "21: family(578), family(636), they(658), their(660), they(684)\r\n",
      "22: government(589), it(598)\r\n",
      "23: Kim(633), she(652), she(695)\r\n",
      "24: agency(648), it(672)\n"
     ]
    }
   ],
   "source": [
    "doc1._.coref_chains.print()"
   ]
  },
  {
   "cell_type": "code",
   "execution_count": 14,
   "metadata": {},
   "outputs": [
    {
     "name": "stdout",
     "output_type": "stream",
     "text": [
      "[Kim]\n"
     ]
    }
   ],
   "source": [
    "# example: who does she(452) refer to?\n",
    "\n",
    "print(doc1._.coref_chains.resolve(doc1[452]))"
   ]
  },
  {
   "cell_type": "code",
   "execution_count": 15,
   "metadata": {},
   "outputs": [
    {
     "name": "stdout",
     "output_type": "stream",
     "text": [
      "Kim PERSON\n",
      "Clark Moran PERSON\n",
      "Ayo PERSON\n",
      "Kim PERSON\n",
      "Ayo PERSON\n",
      "Kim PERSON\n",
      "Clark PERSON\n",
      "Kim PERSON\n",
      "Ayo PERSON\n",
      "Morans PERSON\n",
      "Kim PERSON\n",
      "Ayo PERSON\n",
      "Clark PERSON\n",
      "Kim PERSON\n",
      "Kim PERSON\n",
      "Clark PERSON\n",
      "Ayo PERSON\n",
      "Kim PERSON\n",
      "Morans PERSON\n",
      "Ayo PERSON\n",
      "Kim PERSON\n",
      "Ben Miljure PERSON\n"
     ]
    }
   ],
   "source": [
    "# print referring expressions that are people\n",
    "# we are interested in those because they are the sources of quotes\n",
    "for ent in doc1.ents:\n",
    "    if ent.label_ in [\"PERSON\"]:\n",
    "        print(ent.text, ent.label_)"
   ]
  },
  {
   "cell_type": "markdown",
   "metadata": {},
   "source": [
    "## Side note: visualizations\n",
    "If you want to see this all in a much prettier format, you can use [displacy](https://spacy.io/usage/visualizers). "
   ]
  },
  {
   "cell_type": "code",
   "execution_count": 10,
   "metadata": {},
   "outputs": [],
   "source": [
    "from spacy import displacy"
   ]
  },
  {
   "cell_type": "code",
   "execution_count": 11,
   "metadata": {},
   "outputs": [
    {
     "data": {
      "text/html": [
       "<span class=\"tex2jax_ignore\"><div class=\"entities\" style=\"line-height: 2.5; direction: ltr\"> CTV Vancouver. </br> An Abbotsford, B.C. couple that has been waiting nearly two years to bring their newly adopted son home from Africa has learned that the Canadian government is not prepared to grant the child citizenship. </br> \n",
       "<mark class=\"entity\" style=\"background: lightsteelblue; padding: 0.45em 0.6em; margin: 0 0.25em; line-height: 1; border-radius: 0.35em;\">\n",
       "    Kim\n",
       "    <span style=\"font-size: 0.8em; font-weight: bold; line-height: 1; border-radius: 0.35em; vertical-align: middle; margin-left: 0.5rem\">PERSON</span>\n",
       "</mark>\n",
       " and \n",
       "<mark class=\"entity\" style=\"background: lightsteelblue; padding: 0.45em 0.6em; margin: 0 0.25em; line-height: 1; border-radius: 0.35em;\">\n",
       "    Clark Moran\n",
       "    <span style=\"font-size: 0.8em; font-weight: bold; line-height: 1; border-radius: 0.35em; vertical-align: middle; margin-left: 0.5rem\">PERSON</span>\n",
       "</mark>\n",
       " received a letter this week from Immigration, Refugees and Citizenship Canada informing them that the federal department has concerns about two-year-old \n",
       "<mark class=\"entity\" style=\"background: lightsteelblue; padding: 0.45em 0.6em; margin: 0 0.25em; line-height: 1; border-radius: 0.35em;\">\n",
       "    Ayo\n",
       "    <span style=\"font-size: 0.8em; font-weight: bold; line-height: 1; border-radius: 0.35em; vertical-align: middle; margin-left: 0.5rem\">PERSON</span>\n",
       "</mark>\n",
       ", whom the couple claims they adopted from an orphanage in Nigeria and gained custody of in August. </br> &quot;Honestly, it feels like we're living our worst nightmare right now,&quot; \n",
       "<mark class=\"entity\" style=\"background: lightsteelblue; padding: 0.45em 0.6em; margin: 0 0.25em; line-height: 1; border-radius: 0.35em;\">\n",
       "    Kim\n",
       "    <span style=\"font-size: 0.8em; font-weight: bold; line-height: 1; border-radius: 0.35em; vertical-align: middle; margin-left: 0.5rem\">PERSON</span>\n",
       "</mark>\n",
       " told CTV News Friday. &quot;The fact that we are being accused right now of an unethical adoption is crazy.&quot;. </br> CTV News has learned that a third party has come forward with an allegation that \n",
       "<mark class=\"entity\" style=\"background: lightsteelblue; padding: 0.45em 0.6em; margin: 0 0.25em; line-height: 1; border-radius: 0.35em;\">\n",
       "    Ayo\n",
       "    <span style=\"font-size: 0.8em; font-weight: bold; line-height: 1; border-radius: 0.35em; vertical-align: middle; margin-left: 0.5rem\">PERSON</span>\n",
       "</mark>\n",
       "'s adoption came from a private residence and not an orphanage. </br> &quot;It does say that in the letter,&quot; \n",
       "<mark class=\"entity\" style=\"background: lightsteelblue; padding: 0.45em 0.6em; margin: 0 0.25em; line-height: 1; border-radius: 0.35em;\">\n",
       "    Kim\n",
       "    <span style=\"font-size: 0.8em; font-weight: bold; line-height: 1; border-radius: 0.35em; vertical-align: middle; margin-left: 0.5rem\">PERSON</span>\n",
       "</mark>\n",
       " confirmed, adding that &quot;I have no idea where that information came from because both \n",
       "<mark class=\"entity\" style=\"background: lightsteelblue; padding: 0.45em 0.6em; margin: 0 0.25em; line-height: 1; border-radius: 0.35em;\">\n",
       "    Clark\n",
       "    <span style=\"font-size: 0.8em; font-weight: bold; line-height: 1; border-radius: 0.35em; vertical-align: middle; margin-left: 0.5rem\">PERSON</span>\n",
       "</mark>\n",
       " and I were there in the office with all of the workers from the orphanage.&quot;. </br> \n",
       "<mark class=\"entity\" style=\"background: lightsteelblue; padding: 0.45em 0.6em; margin: 0 0.25em; line-height: 1; border-radius: 0.35em;\">\n",
       "    Kim\n",
       "    <span style=\"font-size: 0.8em; font-weight: bold; line-height: 1; border-radius: 0.35em; vertical-align: middle; margin-left: 0.5rem\">PERSON</span>\n",
       "</mark>\n",
       " would not share a copy of the letter with CTV. </br> In a statement, IRCC did not reveal any details regarding the \n",
       "<mark class=\"entity\" style=\"background: lightsteelblue; padding: 0.45em 0.6em; margin: 0 0.25em; line-height: 1; border-radius: 0.35em;\">\n",
       "    Ayo\n",
       "    <span style=\"font-size: 0.8em; font-weight: bold; line-height: 1; border-radius: 0.35em; vertical-align: middle; margin-left: 0.5rem\">PERSON</span>\n",
       "</mark>\n",
       "'s paperwork, but said &quot;the Government of Canada has obligations under international conventions to ensure children are not abducted, bought or sold, or removed from their biological families without legal consent.&quot;. </br> The department added that &quot;in some cases, extra steps in the citizenship or immigration process may be needed to make sure the adoption meets all requirements of international adoption.&quot;. </br> The \n",
       "<mark class=\"entity\" style=\"background: lightsteelblue; padding: 0.45em 0.6em; margin: 0 0.25em; line-height: 1; border-radius: 0.35em;\">\n",
       "    Morans\n",
       "    <span style=\"font-size: 0.8em; font-weight: bold; line-height: 1; border-radius: 0.35em; vertical-align: middle; margin-left: 0.5rem\">PERSON</span>\n",
       "</mark>\n",
       "' story first made headlines in October, some three months after they first travelled to Africa to finalize the adoption. </br> According to \n",
       "<mark class=\"entity\" style=\"background: lightsteelblue; padding: 0.45em 0.6em; margin: 0 0.25em; line-height: 1; border-radius: 0.35em;\">\n",
       "    Kim\n",
       "    <span style=\"font-size: 0.8em; font-weight: bold; line-height: 1; border-radius: 0.35em; vertical-align: middle; margin-left: 0.5rem\">PERSON</span>\n",
       "</mark>\n",
       ", the Canadian high commission in Nigeria doesn't have an immigration office, so all adoptions out of that country have to be processed in Ghana. </br> Thinking that the immigration papers that would allow them to bring \n",
       "<mark class=\"entity\" style=\"background: lightsteelblue; padding: 0.45em 0.6em; margin: 0 0.25em; line-height: 1; border-radius: 0.35em;\">\n",
       "    Ayo\n",
       "    <span style=\"font-size: 0.8em; font-weight: bold; line-height: 1; border-radius: 0.35em; vertical-align: middle; margin-left: 0.5rem\">PERSON</span>\n",
       "</mark>\n",
       " back to B.C. wouldn't take more than a few weeks to be finalized, \n",
       "<mark class=\"entity\" style=\"background: lightsteelblue; padding: 0.45em 0.6em; margin: 0 0.25em; line-height: 1; border-radius: 0.35em;\">\n",
       "    Clark\n",
       "    <span style=\"font-size: 0.8em; font-weight: bold; line-height: 1; border-radius: 0.35em; vertical-align: middle; margin-left: 0.5rem\">PERSON</span>\n",
       "</mark>\n",
       " headed back to Canada while \n",
       "<mark class=\"entity\" style=\"background: lightsteelblue; padding: 0.45em 0.6em; margin: 0 0.25em; line-height: 1; border-radius: 0.35em;\">\n",
       "    Kim\n",
       "    <span style=\"font-size: 0.8em; font-weight: bold; line-height: 1; border-radius: 0.35em; vertical-align: middle; margin-left: 0.5rem\">PERSON</span>\n",
       "</mark>\n",
       " and their son remained in Accra. </br> It would be months, however, before the family got an update. </br> \n",
       "<mark class=\"entity\" style=\"background: lightsteelblue; padding: 0.45em 0.6em; margin: 0 0.25em; line-height: 1; border-radius: 0.35em;\">\n",
       "    Kim\n",
       "    <span style=\"font-size: 0.8em; font-weight: bold; line-height: 1; border-radius: 0.35em; vertical-align: middle; margin-left: 0.5rem\">PERSON</span>\n",
       "</mark>\n",
       " was forced to switch places with \n",
       "<mark class=\"entity\" style=\"background: lightsteelblue; padding: 0.45em 0.6em; margin: 0 0.25em; line-height: 1; border-radius: 0.35em;\">\n",
       "    Clark\n",
       "    <span style=\"font-size: 0.8em; font-weight: bold; line-height: 1; border-radius: 0.35em; vertical-align: middle; margin-left: 0.5rem\">PERSON</span>\n",
       "</mark>\n",
       " late last month after her multiple sclerosis flared up. </br> He is now in Ghana with \n",
       "<mark class=\"entity\" style=\"background: lightsteelblue; padding: 0.45em 0.6em; margin: 0 0.25em; line-height: 1; border-radius: 0.35em;\">\n",
       "    Ayo\n",
       "    <span style=\"font-size: 0.8em; font-weight: bold; line-height: 1; border-radius: 0.35em; vertical-align: middle; margin-left: 0.5rem\">PERSON</span>\n",
       "</mark>\n",
       " and she is back in B.C., but it's unclear what the family's future will look like. </br> &quot;If Canada doesn't grant him citizenship, what happens? They send him back to Nigeria to an orphanage? They take him from us even though he's legally our son?&quot; \n",
       "<mark class=\"entity\" style=\"background: lightsteelblue; padding: 0.45em 0.6em; margin: 0 0.25em; line-height: 1; border-radius: 0.35em;\">\n",
       "    Kim\n",
       "    <span style=\"font-size: 0.8em; font-weight: bold; line-height: 1; border-radius: 0.35em; vertical-align: middle; margin-left: 0.5rem\">PERSON</span>\n",
       "</mark>\n",
       " said. </br> IRCC has told CTV that under ideal circumstances, the two-step adoption and immigration process can take between six and eight months, but that timeframe can be as long as two years depending on the child's country of origin and other factors. </br> The Morans' paperwork was received in February 2017. A year and 10 months later, the family's adoption process is at the top end of the government's estimated timeline, but has not exceeded it. </br> The Morans have 60 days to respond to the letter, and the IRCC stressed Friday that a final decision on \n",
       "<mark class=\"entity\" style=\"background: lightsteelblue; padding: 0.45em 0.6em; margin: 0 0.25em; line-height: 1; border-radius: 0.35em;\">\n",
       "    Ayo\n",
       "    <span style=\"font-size: 0.8em; font-weight: bold; line-height: 1; border-radius: 0.35em; vertical-align: middle; margin-left: 0.5rem\">PERSON</span>\n",
       "</mark>\n",
       "'s citizenship application has not yet been made. </br> \n",
       "<mark class=\"entity\" style=\"background: lightsteelblue; padding: 0.45em 0.6em; margin: 0 0.25em; line-height: 1; border-radius: 0.35em;\">\n",
       "    Kim\n",
       "    <span style=\"font-size: 0.8em; font-weight: bold; line-height: 1; border-radius: 0.35em; vertical-align: middle; margin-left: 0.5rem\">PERSON</span>\n",
       "</mark>\n",
       " said the family is working with an immigration lawyer as well as the adoption agency, whose name she would not reveal, as they weigh their options. </br> &quot;We're not giving up, but it feels really overwhelming to think about what this means and what they're trying to do to us right now,&quot; she said. </br> &quot;I can't believe that this is our life, that this is our story.&quot;. </br> With files from CTV Vancouver's \n",
       "<mark class=\"entity\" style=\"background: lightsteelblue; padding: 0.45em 0.6em; margin: 0 0.25em; line-height: 1; border-radius: 0.35em;\">\n",
       "    Ben Miljure\n",
       "    <span style=\"font-size: 0.8em; font-weight: bold; line-height: 1; border-radius: 0.35em; vertical-align: middle; margin-left: 0.5rem\">PERSON</span>\n",
       "</mark>\n",
       "</div></span>"
      ],
      "text/plain": [
       "<IPython.core.display.HTML object>"
      ]
     },
     "metadata": {},
     "output_type": "display_data"
    }
   ],
   "source": [
    "options = {\"ents\": [\"PERSON\"],\n",
    "          \"colors\": {\"PERSON\": \"lightsteelblue\"}}\n",
    "\n",
    "displacy.render(doc1, style=\"ent\", options=options, jupyter=True)"
   ]
  },
  {
   "cell_type": "markdown",
   "metadata": {},
   "source": [
    "## Part 2: Run the quote extraction from Assignment 1\n",
    "I suggest using the Matcher quote extraction system from A1, but, if you implemented your own version, or improved on this one, feel free to use that instead."
   ]
  },
  {
   "cell_type": "code",
   "execution_count": 12,
   "metadata": {},
   "outputs": [],
   "source": [
    "#import what we need for this\n",
    "from spacy.matcher import Matcher\n",
    "\n",
    "matcher = Matcher(nlp.vocab)"
   ]
  },
  {
   "cell_type": "code",
   "execution_count": 13,
   "metadata": {},
   "outputs": [
    {
     "name": "stdout",
     "output_type": "stream",
     "text": [
      "3\n",
      "(16432004385153140588, 115, 133) \"The fact that we are being accused right now of an unethical adoption is crazy.\"\n",
      "(16432004385153140588, 164, 174) \"It does say that in the letter,\"\n",
      "(16432004385153140588, 179, 209) \"I have no idea where that information came from because both Clark and I were there in the office with all of the workers from the orphanage.\"\n"
     ]
    }
   ],
   "source": [
    "# we don't need to load the text again; use text1 from above\n",
    "\n",
    "matcher = Matcher(nlp.vocab)\n",
    "pattern_q = [{'ORTH': '\"'}, {'IS_ALPHA': True, \"OP\": \"+\"}, {'IS_PUNCT': True, \"OP\": \"*\"}, {'ORTH': '\"'}]\n",
    "matcher.add(\"QUOTES\", [pattern_q], greedy='LONGEST')\n",
    "doc = nlp(text1)\n",
    "matches_q = matcher(doc)\n",
    "matches_q.sort(key = lambda x: x[1])\n",
    "print (len(matches_q))\n",
    "for match in matches_q[:10]:\n",
    "    print (match, doc[match[1]:match[2]])"
   ]
  },
  {
   "cell_type": "markdown",
   "metadata": {},
   "source": [
    "## Your turn\n",
    "\n",
    "Check instructions on Canvas for what to do and what to submit. "
   ]
  },
  {
   "cell_type": "code",
   "execution_count": null,
   "metadata": {},
   "outputs": [],
   "source": []
  }
 ],
 "metadata": {
  "kernelspec": {
   "display_name": "Python 3",
   "language": "python",
   "name": "python3"
  },
  "language_info": {
   "codemirror_mode": {
    "name": "ipython",
    "version": 3
   },
   "file_extension": ".py",
   "mimetype": "text/x-python",
   "name": "python",
   "nbconvert_exporter": "python",
   "pygments_lexer": "ipython3",
   "version": "3.7.3"
  }
 },
 "nbformat": 4,
 "nbformat_minor": 5
}
